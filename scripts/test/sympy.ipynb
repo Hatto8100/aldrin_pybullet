{
 "cells": [
  {
   "cell_type": "code",
   "execution_count": 20,
   "metadata": {},
   "outputs": [],
   "source": [
    "%matplotlib inline\n",
    "%matplotlib widget\n",
    "import sympy as sym\n",
    "import numpy as np"
   ]
  },
  {
   "cell_type": "code",
   "execution_count": 21,
   "metadata": {},
   "outputs": [],
   "source": [
    "# Convert DH parameters to a homogeneous transformation matrix.\n",
    "def dh_to_matrix(dh_param):\n",
    "    a, alpha, d, theta = dh_param\n",
    "    cos_theta = sym.cos(theta)\n",
    "    sin_theta = sym.sin(theta)\n",
    "    cos_alpha = sym.cos(alpha)\n",
    "    sin_alpha = sym.sin(alpha)\n",
    "\n",
    "    Ti = sym.Matrix([\n",
    "        [cos_theta, -sin_theta, 0, a],\n",
    "        [cos_alpha*sin_theta, cos_alpha*cos_theta, -sin_alpha, -d * sin_alpha],\n",
    "        [sin_alpha*sin_theta, sin_alpha*cos_theta, cos_alpha, d*cos_alpha],\n",
    "        [0, 0, 0, 1]\n",
    "    ])\n",
    "    return Ti\n",
    "\n",
    "def forward_kinematics(dh_params):\n",
    "    n = len(dh_params)\n",
    "    T = sym.eye(4)\n",
    "    T_list = [T]\n",
    "    for i in range(n):\n",
    "        Ti = dh_to_matrix(dh_params[i])\n",
    "        T = T @ Ti\n",
    "        T_list.append(T)\n",
    "    return T_list\n",
    "\n",
    "# Define the symbols\n",
    "q1, q2, q3 = sym.symbols('q1 q2 q3')\n",
    "l1, l2, l3 = sym.symbols('l1 l2 l3')\n",
    "\n",
    "# Define the DH param\n",
    "theta = np.array([q1, q2, q3])\n",
    "L = np.array([l1,l2, l3])\n",
    "dh_params = np.array([\n",
    "    [0.0, 0.0, L[0], theta[0]],\n",
    "    [0.0, theta[1], L[1], 0.0],\n",
    "    [0.0, theta[2], L[2], 0.0]\n",
    "    ])"
   ]
  },
  {
   "cell_type": "code",
   "execution_count": 22,
   "metadata": {},
   "outputs": [
    {
     "data": {
      "text/latex": [
       "$\\displaystyle \\left[\\begin{matrix}\\cos{\\left(q_{1} \\right)} & \\sin{\\left(q_{1} \\right)} \\sin{\\left(q_{2} \\right)} \\sin{\\left(q_{3} \\right)} - \\sin{\\left(q_{1} \\right)} \\cos{\\left(q_{2} \\right)} \\cos{\\left(q_{3} \\right)} & \\sin{\\left(q_{1} \\right)} \\sin{\\left(q_{2} \\right)} \\cos{\\left(q_{3} \\right)} + \\sin{\\left(q_{1} \\right)} \\sin{\\left(q_{3} \\right)} \\cos{\\left(q_{2} \\right)} & l_{2} \\sin{\\left(q_{1} \\right)} \\sin{\\left(q_{2} \\right)} + l_{3} \\sin{\\left(q_{1} \\right)} \\sin{\\left(q_{2} \\right)} \\cos{\\left(q_{3} \\right)} + l_{3} \\sin{\\left(q_{1} \\right)} \\sin{\\left(q_{3} \\right)} \\cos{\\left(q_{2} \\right)}\\\\\\sin{\\left(q_{1} \\right)} & - \\sin{\\left(q_{2} \\right)} \\sin{\\left(q_{3} \\right)} \\cos{\\left(q_{1} \\right)} + \\cos{\\left(q_{1} \\right)} \\cos{\\left(q_{2} \\right)} \\cos{\\left(q_{3} \\right)} & - \\sin{\\left(q_{2} \\right)} \\cos{\\left(q_{1} \\right)} \\cos{\\left(q_{3} \\right)} - \\sin{\\left(q_{3} \\right)} \\cos{\\left(q_{1} \\right)} \\cos{\\left(q_{2} \\right)} & - l_{2} \\sin{\\left(q_{2} \\right)} \\cos{\\left(q_{1} \\right)} - l_{3} \\sin{\\left(q_{2} \\right)} \\cos{\\left(q_{1} \\right)} \\cos{\\left(q_{3} \\right)} - l_{3} \\sin{\\left(q_{3} \\right)} \\cos{\\left(q_{1} \\right)} \\cos{\\left(q_{2} \\right)}\\\\0 & \\sin{\\left(q_{2} \\right)} \\cos{\\left(q_{3} \\right)} + \\sin{\\left(q_{3} \\right)} \\cos{\\left(q_{2} \\right)} & - \\sin{\\left(q_{2} \\right)} \\sin{\\left(q_{3} \\right)} + \\cos{\\left(q_{2} \\right)} \\cos{\\left(q_{3} \\right)} & l_{1} + l_{2} \\cos{\\left(q_{2} \\right)} - l_{3} \\sin{\\left(q_{2} \\right)} \\sin{\\left(q_{3} \\right)} + l_{3} \\cos{\\left(q_{2} \\right)} \\cos{\\left(q_{3} \\right)}\\\\0 & 0 & 0 & 1\\end{matrix}\\right]$"
      ],
      "text/plain": [
       "Matrix([\n",
       "[cos(q1),  sin(q1)*sin(q2)*sin(q3) - sin(q1)*cos(q2)*cos(q3),  sin(q1)*sin(q2)*cos(q3) + sin(q1)*sin(q3)*cos(q2),  l2*sin(q1)*sin(q2) + l3*sin(q1)*sin(q2)*cos(q3) + l3*sin(q1)*sin(q3)*cos(q2)],\n",
       "[sin(q1), -sin(q2)*sin(q3)*cos(q1) + cos(q1)*cos(q2)*cos(q3), -sin(q2)*cos(q1)*cos(q3) - sin(q3)*cos(q1)*cos(q2), -l2*sin(q2)*cos(q1) - l3*sin(q2)*cos(q1)*cos(q3) - l3*sin(q3)*cos(q1)*cos(q2)],\n",
       "[      0,                  sin(q2)*cos(q3) + sin(q3)*cos(q2),                 -sin(q2)*sin(q3) + cos(q2)*cos(q3),                     l1 + l2*cos(q2) - l3*sin(q2)*sin(q3) + l3*cos(q2)*cos(q3)],\n",
       "[      0,                                                  0,                                                  0,                                                                             1]])"
      ]
     },
     "execution_count": 22,
     "metadata": {},
     "output_type": "execute_result"
    }
   ],
   "source": [
    "p_current = forward_kinematics(dh_params)[-1]\n",
    "p_current"
   ]
  },
  {
   "cell_type": "code",
   "execution_count": 23,
   "metadata": {},
   "outputs": [
    {
     "data": {
      "text/latex": [
       "$\\displaystyle \\left[\\begin{matrix}l_{2} \\sin{\\left(q_{2} \\right)} \\cos{\\left(q_{1} \\right)} + l_{3} \\sin{\\left(q_{2} \\right)} \\cos{\\left(q_{1} \\right)} \\cos{\\left(q_{3} \\right)} + l_{3} \\sin{\\left(q_{3} \\right)} \\cos{\\left(q_{1} \\right)} \\cos{\\left(q_{2} \\right)} & l_{2} \\sin{\\left(q_{1} \\right)} \\cos{\\left(q_{2} \\right)} - l_{3} \\sin{\\left(q_{1} \\right)} \\sin{\\left(q_{2} \\right)} \\sin{\\left(q_{3} \\right)} + l_{3} \\sin{\\left(q_{1} \\right)} \\cos{\\left(q_{2} \\right)} \\cos{\\left(q_{3} \\right)} & 0\\\\l_{2} \\sin{\\left(q_{1} \\right)} \\sin{\\left(q_{2} \\right)} + l_{3} \\sin{\\left(q_{1} \\right)} \\sin{\\left(q_{2} \\right)} \\cos{\\left(q_{3} \\right)} + l_{3} \\sin{\\left(q_{1} \\right)} \\sin{\\left(q_{3} \\right)} \\cos{\\left(q_{2} \\right)} & - l_{2} \\cos{\\left(q_{1} \\right)} \\cos{\\left(q_{2} \\right)} + l_{3} \\sin{\\left(q_{2} \\right)} \\sin{\\left(q_{3} \\right)} \\cos{\\left(q_{1} \\right)} - l_{3} \\cos{\\left(q_{1} \\right)} \\cos{\\left(q_{2} \\right)} \\cos{\\left(q_{3} \\right)} & 0\\\\0 & - l_{2} \\sin{\\left(q_{2} \\right)} - l_{3} \\sin{\\left(q_{2} \\right)} \\cos{\\left(q_{3} \\right)} - l_{3} \\sin{\\left(q_{3} \\right)} \\cos{\\left(q_{2} \\right)} & 1\\end{matrix}\\right]$"
      ],
      "text/plain": [
       "Matrix([\n",
       "[l2*sin(q2)*cos(q1) + l3*sin(q2)*cos(q1)*cos(q3) + l3*sin(q3)*cos(q1)*cos(q2),  l2*sin(q1)*cos(q2) - l3*sin(q1)*sin(q2)*sin(q3) + l3*sin(q1)*cos(q2)*cos(q3), 0],\n",
       "[l2*sin(q1)*sin(q2) + l3*sin(q1)*sin(q2)*cos(q3) + l3*sin(q1)*sin(q3)*cos(q2), -l2*cos(q1)*cos(q2) + l3*sin(q2)*sin(q3)*cos(q1) - l3*cos(q1)*cos(q2)*cos(q3), 0],\n",
       "[                                                                           0,                         -l2*sin(q2) - l3*sin(q2)*cos(q3) - l3*sin(q3)*cos(q2), 1]])"
      ]
     },
     "execution_count": 23,
     "metadata": {},
     "output_type": "execute_result"
    }
   ],
   "source": [
    "J = sym.eye(3)\n",
    "J[:,0]= p_current.diff(q1)[:3,3]\n",
    "J[:,1]= p_current.diff(q2)[:3,3]\n",
    "J"
   ]
  },
  {
   "cell_type": "code",
   "execution_count": 24,
   "metadata": {},
   "outputs": [
    {
     "data": {
      "text/latex": [
       "$\\displaystyle \\left[\\begin{matrix}\\frac{\\cos{\\left(q_{1} \\right)}}{l_{2} \\sin^{2}{\\left(q_{1} \\right)} \\sin{\\left(q_{2} \\right)} + l_{2} \\sin{\\left(q_{2} \\right)} \\cos^{2}{\\left(q_{1} \\right)} + l_{3} \\sin^{2}{\\left(q_{1} \\right)} \\sin{\\left(q_{2} \\right)} \\cos{\\left(q_{3} \\right)} + l_{3} \\sin^{2}{\\left(q_{1} \\right)} \\sin{\\left(q_{3} \\right)} \\cos{\\left(q_{2} \\right)} + l_{3} \\sin{\\left(q_{2} \\right)} \\cos^{2}{\\left(q_{1} \\right)} \\cos{\\left(q_{3} \\right)} + l_{3} \\sin{\\left(q_{3} \\right)} \\cos^{2}{\\left(q_{1} \\right)} \\cos{\\left(q_{2} \\right)}} & \\frac{\\sin{\\left(q_{1} \\right)}}{l_{2} \\sin^{2}{\\left(q_{1} \\right)} \\sin{\\left(q_{2} \\right)} + l_{2} \\sin{\\left(q_{2} \\right)} \\cos^{2}{\\left(q_{1} \\right)} + l_{3} \\sin^{2}{\\left(q_{1} \\right)} \\sin{\\left(q_{2} \\right)} \\cos{\\left(q_{3} \\right)} + l_{3} \\sin^{2}{\\left(q_{1} \\right)} \\sin{\\left(q_{3} \\right)} \\cos{\\left(q_{2} \\right)} + l_{3} \\sin{\\left(q_{2} \\right)} \\cos^{2}{\\left(q_{1} \\right)} \\cos{\\left(q_{3} \\right)} + l_{3} \\sin{\\left(q_{3} \\right)} \\cos^{2}{\\left(q_{1} \\right)} \\cos{\\left(q_{2} \\right)}} & 0\\\\\\frac{\\sin{\\left(q_{1} \\right)}}{l_{2} \\sin^{2}{\\left(q_{1} \\right)} \\cos{\\left(q_{2} \\right)} + l_{2} \\cos^{2}{\\left(q_{1} \\right)} \\cos{\\left(q_{2} \\right)} - l_{3} \\sin^{2}{\\left(q_{1} \\right)} \\sin{\\left(q_{2} \\right)} \\sin{\\left(q_{3} \\right)} + l_{3} \\sin^{2}{\\left(q_{1} \\right)} \\cos{\\left(q_{2} \\right)} \\cos{\\left(q_{3} \\right)} - l_{3} \\sin{\\left(q_{2} \\right)} \\sin{\\left(q_{3} \\right)} \\cos^{2}{\\left(q_{1} \\right)} + l_{3} \\cos^{2}{\\left(q_{1} \\right)} \\cos{\\left(q_{2} \\right)} \\cos{\\left(q_{3} \\right)}} & - \\frac{\\cos{\\left(q_{1} \\right)}}{l_{2} \\sin^{2}{\\left(q_{1} \\right)} \\cos{\\left(q_{2} \\right)} + l_{2} \\cos^{2}{\\left(q_{1} \\right)} \\cos{\\left(q_{2} \\right)} - l_{3} \\sin^{2}{\\left(q_{1} \\right)} \\sin{\\left(q_{2} \\right)} \\sin{\\left(q_{3} \\right)} + l_{3} \\sin^{2}{\\left(q_{1} \\right)} \\cos{\\left(q_{2} \\right)} \\cos{\\left(q_{3} \\right)} - l_{3} \\sin{\\left(q_{2} \\right)} \\sin{\\left(q_{3} \\right)} \\cos^{2}{\\left(q_{1} \\right)} + l_{3} \\cos^{2}{\\left(q_{1} \\right)} \\cos{\\left(q_{2} \\right)} \\cos{\\left(q_{3} \\right)}} & 0\\\\\\frac{l_{2} \\sin{\\left(q_{1} \\right)} \\sin{\\left(q_{2} \\right)} + l_{3} \\sin{\\left(q_{1} \\right)} \\sin{\\left(q_{2} \\right)} \\cos{\\left(q_{3} \\right)} + l_{3} \\sin{\\left(q_{1} \\right)} \\sin{\\left(q_{3} \\right)} \\cos{\\left(q_{2} \\right)}}{l_{2} \\sin^{2}{\\left(q_{1} \\right)} \\cos{\\left(q_{2} \\right)} + l_{2} \\cos^{2}{\\left(q_{1} \\right)} \\cos{\\left(q_{2} \\right)} - l_{3} \\sin^{2}{\\left(q_{1} \\right)} \\sin{\\left(q_{2} \\right)} \\sin{\\left(q_{3} \\right)} + l_{3} \\sin^{2}{\\left(q_{1} \\right)} \\cos{\\left(q_{2} \\right)} \\cos{\\left(q_{3} \\right)} - l_{3} \\sin{\\left(q_{2} \\right)} \\sin{\\left(q_{3} \\right)} \\cos^{2}{\\left(q_{1} \\right)} + l_{3} \\cos^{2}{\\left(q_{1} \\right)} \\cos{\\left(q_{2} \\right)} \\cos{\\left(q_{3} \\right)}} & \\frac{- l_{2} \\sin{\\left(q_{2} \\right)} \\cos{\\left(q_{1} \\right)} - l_{3} \\sin{\\left(q_{2} \\right)} \\cos{\\left(q_{1} \\right)} \\cos{\\left(q_{3} \\right)} - l_{3} \\sin{\\left(q_{3} \\right)} \\cos{\\left(q_{1} \\right)} \\cos{\\left(q_{2} \\right)}}{l_{2} \\sin^{2}{\\left(q_{1} \\right)} \\cos{\\left(q_{2} \\right)} + l_{2} \\cos^{2}{\\left(q_{1} \\right)} \\cos{\\left(q_{2} \\right)} - l_{3} \\sin^{2}{\\left(q_{1} \\right)} \\sin{\\left(q_{2} \\right)} \\sin{\\left(q_{3} \\right)} + l_{3} \\sin^{2}{\\left(q_{1} \\right)} \\cos{\\left(q_{2} \\right)} \\cos{\\left(q_{3} \\right)} - l_{3} \\sin{\\left(q_{2} \\right)} \\sin{\\left(q_{3} \\right)} \\cos^{2}{\\left(q_{1} \\right)} + l_{3} \\cos^{2}{\\left(q_{1} \\right)} \\cos{\\left(q_{2} \\right)} \\cos{\\left(q_{3} \\right)}} & 1\\end{matrix}\\right]$"
      ],
      "text/plain": [
       "Matrix([\n",
       "[                                                                       cos(q1)/(l2*sin(q1)**2*sin(q2) + l2*sin(q2)*cos(q1)**2 + l3*sin(q1)**2*sin(q2)*cos(q3) + l3*sin(q1)**2*sin(q3)*cos(q2) + l3*sin(q2)*cos(q1)**2*cos(q3) + l3*sin(q3)*cos(q1)**2*cos(q2)),                                                                         sin(q1)/(l2*sin(q1)**2*sin(q2) + l2*sin(q2)*cos(q1)**2 + l3*sin(q1)**2*sin(q2)*cos(q3) + l3*sin(q1)**2*sin(q3)*cos(q2) + l3*sin(q2)*cos(q1)**2*cos(q3) + l3*sin(q3)*cos(q1)**2*cos(q2)), 0],\n",
       "[                                                                       sin(q1)/(l2*sin(q1)**2*cos(q2) + l2*cos(q1)**2*cos(q2) - l3*sin(q1)**2*sin(q2)*sin(q3) + l3*sin(q1)**2*cos(q2)*cos(q3) - l3*sin(q2)*sin(q3)*cos(q1)**2 + l3*cos(q1)**2*cos(q2)*cos(q3)),                                                                        -cos(q1)/(l2*sin(q1)**2*cos(q2) + l2*cos(q1)**2*cos(q2) - l3*sin(q1)**2*sin(q2)*sin(q3) + l3*sin(q1)**2*cos(q2)*cos(q3) - l3*sin(q2)*sin(q3)*cos(q1)**2 + l3*cos(q1)**2*cos(q2)*cos(q3)), 0],\n",
       "[(l2*sin(q1)*sin(q2) + l3*sin(q1)*sin(q2)*cos(q3) + l3*sin(q1)*sin(q3)*cos(q2))/(l2*sin(q1)**2*cos(q2) + l2*cos(q1)**2*cos(q2) - l3*sin(q1)**2*sin(q2)*sin(q3) + l3*sin(q1)**2*cos(q2)*cos(q3) - l3*sin(q2)*sin(q3)*cos(q1)**2 + l3*cos(q1)**2*cos(q2)*cos(q3)), (-l2*sin(q2)*cos(q1) - l3*sin(q2)*cos(q1)*cos(q3) - l3*sin(q3)*cos(q1)*cos(q2))/(l2*sin(q1)**2*cos(q2) + l2*cos(q1)**2*cos(q2) - l3*sin(q1)**2*sin(q2)*sin(q3) + l3*sin(q1)**2*cos(q2)*cos(q3) - l3*sin(q2)*sin(q3)*cos(q1)**2 + l3*cos(q1)**2*cos(q2)*cos(q3)), 1]])"
      ]
     },
     "execution_count": 24,
     "metadata": {},
     "output_type": "execute_result"
    }
   ],
   "source": [
    "J.inv()"
   ]
  }
 ],
 "metadata": {
  "kernelspec": {
   "display_name": "Python 3",
   "language": "python",
   "name": "python3"
  },
  "language_info": {
   "codemirror_mode": {
    "name": "ipython",
    "version": 3
   },
   "file_extension": ".py",
   "mimetype": "text/x-python",
   "name": "python",
   "nbconvert_exporter": "python",
   "pygments_lexer": "ipython3",
   "version": "3.10.6"
  },
  "orig_nbformat": 4,
  "vscode": {
   "interpreter": {
    "hash": "916dbcbb3f70747c44a77c7bcd40155683ae19c65e1c03b4aa3499c5328201f1"
   }
  }
 },
 "nbformat": 4,
 "nbformat_minor": 2
}
