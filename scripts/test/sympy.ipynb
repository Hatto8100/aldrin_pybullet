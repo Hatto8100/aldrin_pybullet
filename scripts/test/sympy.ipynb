{
 "cells": [
  {
   "cell_type": "code",
   "execution_count": 1,
   "metadata": {},
   "outputs": [],
   "source": [
    "import sympy\n",
    "import numpy as np\n",
    "from sympy import sin,cos,exp,Matrix,pi"
   ]
  },
  {
   "cell_type": "code",
   "execution_count": 4,
   "metadata": {},
   "outputs": [
    {
     "name": "stdout",
     "output_type": "stream",
     "text": [
      "*********J*********\n",
      "Matrix([[-l1*sin(q1) - l2*sin(q1 + q2), -l2*sin(q1 + q2)], [l1*cos(q1) + l2*cos(q1 + q2), l2*cos(q1 + q2)]])\n",
      "*********J.inv*********\n",
      "Matrix([[-cos(q1 + q2)/(l1*sin(q1)*cos(q1 + q2) - l1*sin(q1 + q2)*cos(q1)), -sin(q1 + q2)/(l1*sin(q1)*cos(q1 + q2) - l1*sin(q1 + q2)*cos(q1))], [(-l1*cos(q1) - l2*cos(q1 + q2))/(-l1*l2*sin(q1)*cos(q1 + q2) + l1*l2*sin(q1 + q2)*cos(q1)), (-l1*sin(q1) - l2*sin(q1 + q2))/(-l1*l2*sin(q1)*cos(q1 + q2) + l1*l2*sin(q1 + q2)*cos(q1))]])\n",
      "********* orthogonal_matrix *********\n",
      "Matrix([[(-l1*sin(q1) - l2*sin(q1 + q2))**2 + (l1*cos(q1) + l2*cos(q1 + q2))**2, -l2*(-l1*sin(q1) - l2*sin(q1 + q2))*sin(q1 + q2) + l2*(l1*cos(q1) + l2*cos(q1 + q2))*cos(q1 + q2)], [-l2*(-l1*sin(q1) - l2*sin(q1 + q2))*sin(q1 + q2) + l2*(l1*cos(q1) + l2*cos(q1 + q2))*cos(q1 + q2), l2**2*sin(q1 + q2)**2 + l2**2*cos(q1 + q2)**2]])\n",
      "********* J+ *********\n"
     ]
    },
    {
     "data": {
      "text/latex": [
       "$\\displaystyle \\left[\\begin{matrix}- \\frac{l_{2} \\left(- l_{1} \\sin{\\left(q_{1} \\right)} \\sin{\\left(q_{1} + q_{2} \\right)} - l_{1} \\cos{\\left(q_{1} \\right)} \\cos{\\left(q_{1} + q_{2} \\right)} - l_{2} \\sin^{2}{\\left(q_{1} + q_{2} \\right)} - l_{2} \\cos^{2}{\\left(q_{1} + q_{2} \\right)}\\right) \\sin{\\left(q_{1} + q_{2} \\right)}}{l_{1}^{2} l_{2} \\sin^{2}{\\left(q_{1} \\right)} \\cos^{2}{\\left(q_{1} + q_{2} \\right)} - 2 l_{1}^{2} l_{2} \\sin{\\left(q_{1} \\right)} \\sin{\\left(q_{1} + q_{2} \\right)} \\cos{\\left(q_{1} \\right)} \\cos{\\left(q_{1} + q_{2} \\right)} + l_{1}^{2} l_{2} \\sin^{2}{\\left(q_{1} + q_{2} \\right)} \\cos^{2}{\\left(q_{1} \\right)}} + \\frac{\\left(- l_{1} \\sin{\\left(q_{1} \\right)} - l_{2} \\sin{\\left(q_{1} + q_{2} \\right)}\\right) \\left(\\sin^{2}{\\left(q_{1} + q_{2} \\right)} + \\cos^{2}{\\left(q_{1} + q_{2} \\right)}\\right)}{l_{1}^{2} \\sin^{2}{\\left(q_{1} \\right)} \\cos^{2}{\\left(q_{1} + q_{2} \\right)} - 2 l_{1}^{2} \\sin{\\left(q_{1} \\right)} \\sin{\\left(q_{1} + q_{2} \\right)} \\cos{\\left(q_{1} \\right)} \\cos{\\left(q_{1} + q_{2} \\right)} + l_{1}^{2} \\sin^{2}{\\left(q_{1} + q_{2} \\right)} \\cos^{2}{\\left(q_{1} \\right)}} & \\frac{l_{2} \\left(- l_{1} \\sin{\\left(q_{1} \\right)} \\sin{\\left(q_{1} + q_{2} \\right)} - l_{1} \\cos{\\left(q_{1} \\right)} \\cos{\\left(q_{1} + q_{2} \\right)} - l_{2} \\sin^{2}{\\left(q_{1} + q_{2} \\right)} - l_{2} \\cos^{2}{\\left(q_{1} + q_{2} \\right)}\\right) \\cos{\\left(q_{1} + q_{2} \\right)}}{l_{1}^{2} l_{2} \\sin^{2}{\\left(q_{1} \\right)} \\cos^{2}{\\left(q_{1} + q_{2} \\right)} - 2 l_{1}^{2} l_{2} \\sin{\\left(q_{1} \\right)} \\sin{\\left(q_{1} + q_{2} \\right)} \\cos{\\left(q_{1} \\right)} \\cos{\\left(q_{1} + q_{2} \\right)} + l_{1}^{2} l_{2} \\sin^{2}{\\left(q_{1} + q_{2} \\right)} \\cos^{2}{\\left(q_{1} \\right)}} + \\frac{\\left(l_{1} \\cos{\\left(q_{1} \\right)} + l_{2} \\cos{\\left(q_{1} + q_{2} \\right)}\\right) \\left(\\sin^{2}{\\left(q_{1} + q_{2} \\right)} + \\cos^{2}{\\left(q_{1} + q_{2} \\right)}\\right)}{l_{1}^{2} \\sin^{2}{\\left(q_{1} \\right)} \\cos^{2}{\\left(q_{1} + q_{2} \\right)} - 2 l_{1}^{2} \\sin{\\left(q_{1} \\right)} \\sin{\\left(q_{1} + q_{2} \\right)} \\cos{\\left(q_{1} \\right)} \\cos{\\left(q_{1} + q_{2} \\right)} + l_{1}^{2} \\sin^{2}{\\left(q_{1} + q_{2} \\right)} \\cos^{2}{\\left(q_{1} \\right)}}\\\\- \\frac{l_{2} \\left(l_{1}^{2} \\sin^{2}{\\left(q_{1} \\right)} + l_{1}^{2} \\cos^{2}{\\left(q_{1} \\right)} + 2 l_{1} l_{2} \\sin{\\left(q_{1} \\right)} \\sin{\\left(q_{1} + q_{2} \\right)} + 2 l_{1} l_{2} \\cos{\\left(q_{1} \\right)} \\cos{\\left(q_{1} + q_{2} \\right)} + l_{2}^{2} \\sin^{2}{\\left(q_{1} + q_{2} \\right)} + l_{2}^{2} \\cos^{2}{\\left(q_{1} + q_{2} \\right)}\\right) \\sin{\\left(q_{1} + q_{2} \\right)}}{l_{1}^{2} l_{2}^{2} \\sin^{2}{\\left(q_{1} \\right)} \\cos^{2}{\\left(q_{1} + q_{2} \\right)} - 2 l_{1}^{2} l_{2}^{2} \\sin{\\left(q_{1} \\right)} \\sin{\\left(q_{1} + q_{2} \\right)} \\cos{\\left(q_{1} \\right)} \\cos{\\left(q_{1} + q_{2} \\right)} + l_{1}^{2} l_{2}^{2} \\sin^{2}{\\left(q_{1} + q_{2} \\right)} \\cos^{2}{\\left(q_{1} \\right)}} + \\frac{\\left(- l_{1} \\sin{\\left(q_{1} \\right)} - l_{2} \\sin{\\left(q_{1} + q_{2} \\right)}\\right) \\left(- l_{1} \\sin{\\left(q_{1} \\right)} \\sin{\\left(q_{1} + q_{2} \\right)} - l_{1} \\cos{\\left(q_{1} \\right)} \\cos{\\left(q_{1} + q_{2} \\right)} - l_{2} \\sin^{2}{\\left(q_{1} + q_{2} \\right)} - l_{2} \\cos^{2}{\\left(q_{1} + q_{2} \\right)}\\right)}{l_{1}^{2} l_{2} \\sin^{2}{\\left(q_{1} \\right)} \\cos^{2}{\\left(q_{1} + q_{2} \\right)} - 2 l_{1}^{2} l_{2} \\sin{\\left(q_{1} \\right)} \\sin{\\left(q_{1} + q_{2} \\right)} \\cos{\\left(q_{1} \\right)} \\cos{\\left(q_{1} + q_{2} \\right)} + l_{1}^{2} l_{2} \\sin^{2}{\\left(q_{1} + q_{2} \\right)} \\cos^{2}{\\left(q_{1} \\right)}} & \\frac{l_{2} \\left(l_{1}^{2} \\sin^{2}{\\left(q_{1} \\right)} + l_{1}^{2} \\cos^{2}{\\left(q_{1} \\right)} + 2 l_{1} l_{2} \\sin{\\left(q_{1} \\right)} \\sin{\\left(q_{1} + q_{2} \\right)} + 2 l_{1} l_{2} \\cos{\\left(q_{1} \\right)} \\cos{\\left(q_{1} + q_{2} \\right)} + l_{2}^{2} \\sin^{2}{\\left(q_{1} + q_{2} \\right)} + l_{2}^{2} \\cos^{2}{\\left(q_{1} + q_{2} \\right)}\\right) \\cos{\\left(q_{1} + q_{2} \\right)}}{l_{1}^{2} l_{2}^{2} \\sin^{2}{\\left(q_{1} \\right)} \\cos^{2}{\\left(q_{1} + q_{2} \\right)} - 2 l_{1}^{2} l_{2}^{2} \\sin{\\left(q_{1} \\right)} \\sin{\\left(q_{1} + q_{2} \\right)} \\cos{\\left(q_{1} \\right)} \\cos{\\left(q_{1} + q_{2} \\right)} + l_{1}^{2} l_{2}^{2} \\sin^{2}{\\left(q_{1} + q_{2} \\right)} \\cos^{2}{\\left(q_{1} \\right)}} + \\frac{\\left(l_{1} \\cos{\\left(q_{1} \\right)} + l_{2} \\cos{\\left(q_{1} + q_{2} \\right)}\\right) \\left(- l_{1} \\sin{\\left(q_{1} \\right)} \\sin{\\left(q_{1} + q_{2} \\right)} - l_{1} \\cos{\\left(q_{1} \\right)} \\cos{\\left(q_{1} + q_{2} \\right)} - l_{2} \\sin^{2}{\\left(q_{1} + q_{2} \\right)} - l_{2} \\cos^{2}{\\left(q_{1} + q_{2} \\right)}\\right)}{l_{1}^{2} l_{2} \\sin^{2}{\\left(q_{1} \\right)} \\cos^{2}{\\left(q_{1} + q_{2} \\right)} - 2 l_{1}^{2} l_{2} \\sin{\\left(q_{1} \\right)} \\sin{\\left(q_{1} + q_{2} \\right)} \\cos{\\left(q_{1} \\right)} \\cos{\\left(q_{1} + q_{2} \\right)} + l_{1}^{2} l_{2} \\sin^{2}{\\left(q_{1} + q_{2} \\right)} \\cos^{2}{\\left(q_{1} \\right)}}\\end{matrix}\\right]$"
      ],
      "text/plain": [
       "Matrix([\n",
       "[                                                                                                                                  -l2*(-l1*sin(q1)*sin(q1 + q2) - l1*cos(q1)*cos(q1 + q2) - l2*sin(q1 + q2)**2 - l2*cos(q1 + q2)**2)*sin(q1 + q2)/(l1**2*l2*sin(q1)**2*cos(q1 + q2)**2 - 2*l1**2*l2*sin(q1)*sin(q1 + q2)*cos(q1)*cos(q1 + q2) + l1**2*l2*sin(q1 + q2)**2*cos(q1)**2) + (-l1*sin(q1) - l2*sin(q1 + q2))*(sin(q1 + q2)**2 + cos(q1 + q2)**2)/(l1**2*sin(q1)**2*cos(q1 + q2)**2 - 2*l1**2*sin(q1)*sin(q1 + q2)*cos(q1)*cos(q1 + q2) + l1**2*sin(q1 + q2)**2*cos(q1)**2),                                                                                                                                   l2*(-l1*sin(q1)*sin(q1 + q2) - l1*cos(q1)*cos(q1 + q2) - l2*sin(q1 + q2)**2 - l2*cos(q1 + q2)**2)*cos(q1 + q2)/(l1**2*l2*sin(q1)**2*cos(q1 + q2)**2 - 2*l1**2*l2*sin(q1)*sin(q1 + q2)*cos(q1)*cos(q1 + q2) + l1**2*l2*sin(q1 + q2)**2*cos(q1)**2) + (l1*cos(q1) + l2*cos(q1 + q2))*(sin(q1 + q2)**2 + cos(q1 + q2)**2)/(l1**2*sin(q1)**2*cos(q1 + q2)**2 - 2*l1**2*sin(q1)*sin(q1 + q2)*cos(q1)*cos(q1 + q2) + l1**2*sin(q1 + q2)**2*cos(q1)**2)],\n",
       "[-l2*(l1**2*sin(q1)**2 + l1**2*cos(q1)**2 + 2*l1*l2*sin(q1)*sin(q1 + q2) + 2*l1*l2*cos(q1)*cos(q1 + q2) + l2**2*sin(q1 + q2)**2 + l2**2*cos(q1 + q2)**2)*sin(q1 + q2)/(l1**2*l2**2*sin(q1)**2*cos(q1 + q2)**2 - 2*l1**2*l2**2*sin(q1)*sin(q1 + q2)*cos(q1)*cos(q1 + q2) + l1**2*l2**2*sin(q1 + q2)**2*cos(q1)**2) + (-l1*sin(q1) - l2*sin(q1 + q2))*(-l1*sin(q1)*sin(q1 + q2) - l1*cos(q1)*cos(q1 + q2) - l2*sin(q1 + q2)**2 - l2*cos(q1 + q2)**2)/(l1**2*l2*sin(q1)**2*cos(q1 + q2)**2 - 2*l1**2*l2*sin(q1)*sin(q1 + q2)*cos(q1)*cos(q1 + q2) + l1**2*l2*sin(q1 + q2)**2*cos(q1)**2), l2*(l1**2*sin(q1)**2 + l1**2*cos(q1)**2 + 2*l1*l2*sin(q1)*sin(q1 + q2) + 2*l1*l2*cos(q1)*cos(q1 + q2) + l2**2*sin(q1 + q2)**2 + l2**2*cos(q1 + q2)**2)*cos(q1 + q2)/(l1**2*l2**2*sin(q1)**2*cos(q1 + q2)**2 - 2*l1**2*l2**2*sin(q1)*sin(q1 + q2)*cos(q1)*cos(q1 + q2) + l1**2*l2**2*sin(q1 + q2)**2*cos(q1)**2) + (l1*cos(q1) + l2*cos(q1 + q2))*(-l1*sin(q1)*sin(q1 + q2) - l1*cos(q1)*cos(q1 + q2) - l2*sin(q1 + q2)**2 - l2*cos(q1 + q2)**2)/(l1**2*l2*sin(q1)**2*cos(q1 + q2)**2 - 2*l1**2*l2*sin(q1)*sin(q1 + q2)*cos(q1)*cos(q1 + q2) + l1**2*l2*sin(q1 + q2)**2*cos(q1)**2)]])"
      ]
     },
     "execution_count": 4,
     "metadata": {},
     "output_type": "execute_result"
    }
   ],
   "source": [
    "q1 = sympy.Symbol(\"q1\")\n",
    "q2 = sympy.Symbol(\"q2\")\n",
    "l1 = sympy.Symbol(\"l1\")\n",
    "l2 = sympy.Symbol(\"l2\")\n",
    "\n",
    "\n",
    "\n",
    "x = l1*cos(q1) + l2*cos(q1+q2)\n",
    "z = l1*sin(q1) + l2*sin(q1+q2)\n",
    "J = Matrix([  [x.diff(q1), x.diff(q2)],\n",
    "              [z.diff(q1), z.diff(q2)]  ])\n",
    "\n",
    "\n",
    "t = sympy.Symbol('t')\n",
    "_q1 = sympy.Symbol(\"_q1\")\n",
    "_q2 = sympy.Symbol(\"_q2\")\n",
    "w1 = sympy.Symbol(\"w1\")\n",
    "w2 = sympy.Symbol(\"w2\")\n",
    "l1 = sympy.Symbol(\"l1\")\n",
    "l2 = sympy.Symbol(\"l2\")\n",
    "\n",
    "M = Matrix([  [cos(q1), cos(q1 + q2)],\n",
    "              [sin(q1), sin(q1 + q2)]  ])\n",
    "L = Matrix([[l1, l2]])\n",
    "P = M*L.T\n",
    "J = Matrix([  [P[0,:].diff(q1), P[0,:].diff(q2)],\n",
    "              [P[1,:].diff(q1), P[1,:].diff(q2)]])# x=P[0,:], z=P[1,:]\n",
    "print(\"*********J*********\")\n",
    "print(J)\n",
    "print(\"*********J.inv*********\")\n",
    "print(J.inv())\n",
    "\n",
    "print(\"********* orthogonal_matrix *********\")\n",
    "orth_J = J.T * J #Jの直交行列\n",
    "print(orth_J)\n",
    "\n",
    "print(\"********* J+ *********\")\n",
    "orth_J.inv() * J.T\n"
   ]
  },
  {
   "cell_type": "code",
   "execution_count": 25,
   "metadata": {},
   "outputs": [],
   "source": [
    "def Rz(theta):\n",
    "    M = Matrix([\n",
    "        [cos(theta), -sin(theta),0,0],\n",
    "        [sin(theta),cos(theta),0,0],\n",
    "        [0,0,1,0],\n",
    "        [0,0,0,1]\n",
    "    ])\n",
    "    return M\n",
    "\n",
    "def Tz(d):\n",
    "    M = Matrix([\n",
    "        [1,0,0,0],\n",
    "        [0,1,0,0],\n",
    "        [0,0,1,d],\n",
    "        [0,0,0,1]\n",
    "    ])\n",
    "    return M\n",
    "\n",
    "def Rx(theta):\n",
    "    M = Matrix([\n",
    "        [1,0,0,0],\n",
    "        [0,cos(theta),-sin(theta),0],\n",
    "        [0, sin(theta),cos(theta),0],\n",
    "        [0,0,0,1]\n",
    "        ])\n",
    "    return M \n",
    "\n",
    "def Tx(d):\n",
    "    M = Matrix([\n",
    "        [1,0,0,d],\n",
    "        [0,1,0,0],\n",
    "        [0,0,1,0],\n",
    "        [0,0,0,1]\n",
    "    ])\n",
    "    return M"
   ]
  },
  {
   "attachments": {},
   "cell_type": "markdown",
   "metadata": {},
   "source": [
    "1. $x_{n-1}$軸周りに$\\alpha_{n-1}$だけ回転\n",
    "2. $x_{n-1}$軸向きに$a_{n-1}$だけ平行移動\n",
    "3. $z_{n}$軸周りに$\\theta_{n}$だけ回転\n",
    "4. $z_{n}$軸周りに$d_{n}$だけ平行移動\n",
    "![DHParameter.png](https://qiita-image-store.s3.ap-northeast-1.amazonaws.com/0/92606/a9dc0b96-31f0-4089-a3a5-54768623faac.png)"
   ]
  },
  {
   "cell_type": "code",
   "execution_count": 29,
   "metadata": {},
   "outputs": [
    {
     "data": {
      "text/latex": [
       "$\\displaystyle \\left[\\begin{matrix}\\cos{\\left(\\theta_{n} \\right)} & - \\sin{\\left(\\theta_{n} \\right)} & 0 & a_{n-1}\\\\\\sin{\\left(\\theta_{n} \\right)} \\cos{\\left(\\alpha_{n-1} \\right)} & \\cos{\\left(\\alpha_{n-1} \\right)} \\cos{\\left(\\theta_{n} \\right)} & - \\sin{\\left(\\alpha_{n-1} \\right)} & - d_{n} \\sin{\\left(\\alpha_{n-1} \\right)}\\\\\\sin{\\left(\\alpha_{n-1} \\right)} \\sin{\\left(\\theta_{n} \\right)} & \\sin{\\left(\\alpha_{n-1} \\right)} \\cos{\\left(\\theta_{n} \\right)} & \\cos{\\left(\\alpha_{n-1} \\right)} & d_{n} \\cos{\\left(\\alpha_{n-1} \\right)}\\\\0 & 0 & 0 & 1\\end{matrix}\\right]$"
      ],
      "text/plain": [
       "Matrix([\n",
       "[               cos(theta_n),               -sin(theta_n),               0,               a_n-1],\n",
       "[sin(theta_n)*cos(alpha_n-1), cos(alpha_n-1)*cos(theta_n), -sin(alpha_n-1), -d_n*sin(alpha_n-1)],\n",
       "[sin(alpha_n-1)*sin(theta_n), sin(alpha_n-1)*cos(theta_n),  cos(alpha_n-1),  d_n*cos(alpha_n-1)],\n",
       "[                          0,                           0,               0,                   1]])"
      ]
     },
     "execution_count": 29,
     "metadata": {},
     "output_type": "execute_result"
    }
   ],
   "source": [
    "alpha,theta = sympy.symbols('alpha_n-1, theta_n')\n",
    "a,d = sympy.symbols('a_n-1, d_n')\n",
    "T01 = Rx(alpha)*Tx(a)*Rz(theta)*Tz(d)\n",
    "T01"
   ]
  },
  {
   "cell_type": "code",
   "execution_count": 30,
   "metadata": {},
   "outputs": [],
   "source": [
    "def dh_to_matrix(d, a, alpha, theta):\n",
    "    \"\"\"\n",
    "    Convert DH parameters to a homogeneous transformation matrix.\n",
    "    \"\"\"\n",
    "    cos_theta = np.cos(theta)\n",
    "    sin_theta = np.sin(theta)\n",
    "    cos_alpha = np.cos(alpha)\n",
    "    sin_alpha = np.sin(alpha)\n",
    "\n",
    "    T = np.array([\n",
    "        [cos_theta, -sin_theta * cos_alpha, sin_theta * sin_alpha, a * cos_theta],\n",
    "        [sin_theta, cos_theta * cos_alpha, -cos_theta * sin_alpha, a * sin_theta],\n",
    "        [0, sin_alpha, cos_alpha, d],\n",
    "        [0, 0, 0, 1]\n",
    "    ])\n",
    "\n",
    "    return T\n",
    "\n",
    "\n",
    "def fk_solver(dh_params):\n",
    "    \"\"\"\n",
    "    Calculate the forward kinematics of a robot arm given its DH parameters.\n",
    "    \"\"\"\n",
    "    num_joints = len(dh_params)\n",
    "    T_0_n_minus_1 = np.eye(4)\n",
    "    T_0_n = None\n",
    "    joint_positions = []\n",
    "\n",
    "    for i in range(num_joints):\n",
    "        d, a, alpha, theta = dh_params[i]\n",
    "        T_i_iminus1 = dh_to_matrix(d, a, alpha, theta)\n",
    "        T_0_n_minus_1 = T_0_n_minus_1 @ T_i_iminus1\n",
    "        joint_positions.append(T_0_n_minus_1[:3, 3])\n",
    "\n",
    "    T_0_n = T_0_n_minus_1 @ np.array([[0], [0], [0], [1]])\n",
    "\n",
    "    return T_0_n, joint_positions\n",
    "\n",
    "\n",
    "def ik_solver(dh_params, target_pose):\n",
    "    \"\"\"\n",
    "    Solve inverse kinematics for a 6-DOF robot arm using the Jacobian transpose method.\n",
    "    \"\"\"\n",
    "    # Extract target position and orientation\n",
    "    target_position = target_pose[:3, 3]\n",
    "    target_orientation = target_pose[:3, :3]\n",
    "\n",
    "    # Initialize joint angles\n",
    "    num_joints = len(dh_params)\n",
    "    thetas = np.zeros(num_joints)\n",
    "\n",
    "    # Set maximum number of iterations and threshold for convergence\n",
    "    max_iter = 1000\n",
    "    threshold = 0.001\n",
    "\n",
    "    # Calculate homogeneous transformation matrices\n",
    "    T_0_n = None\n",
    "    joint_positions = []\n",
    "    for i, params in enumerate(dh_params):\n",
    "        d, a, alpha, theta = params\n",
    "        T_i_iminus1 = dh_to_matrix(d, a, alpha, theta)\n",
    "        if i == 0:\n",
    "            T_0_n = T_i_iminus1\n",
    "        else:\n",
    "            T_0_n = T_0_n @ T_i_iminus1\n",
    "        joint_positions.append(T_0_n[:3, 3])\n",
    "\n",
    "    # Calculate inverse kinematics\n",
    "    for i in range(max_iter):\n",
    "        # Calculate current position of end-effector\n",
    "        current_pose, _ = fk_solver(dh_params)\n",
    "\n",
    "        # Calculate Jacobian matrix\n",
    "        jacobian = np.zeros((6, num_joints))\n",
    "        for j in range(num_joints):\n",
    "            d, a, alpha, theta = dh_params[j]\n",
    "            T_joints_jplus1, _ = fk_solver(dh_params[:j+1])\n",
    "            z_axis = T_joints_jplus1[:3, 2]\n",
    "            p_diff = target_position - joint_positions[j]\n",
    "            if alpha == 0 and j == 0:\n",
    "                jacobian[:3, j] = np.cross(z_axis, p_diff)\n",
    "                jacobian[3:, j] = z_axis"
   ]
  }
 ],
 "metadata": {
  "kernelspec": {
   "display_name": "Python 3",
   "language": "python",
   "name": "python3"
  },
  "language_info": {
   "codemirror_mode": {
    "name": "ipython",
    "version": 3
   },
   "file_extension": ".py",
   "mimetype": "text/x-python",
   "name": "python",
   "nbconvert_exporter": "python",
   "pygments_lexer": "ipython3",
   "version": "3.10.6"
  },
  "orig_nbformat": 4,
  "vscode": {
   "interpreter": {
    "hash": "916dbcbb3f70747c44a77c7bcd40155683ae19c65e1c03b4aa3499c5328201f1"
   }
  }
 },
 "nbformat": 4,
 "nbformat_minor": 2
}
